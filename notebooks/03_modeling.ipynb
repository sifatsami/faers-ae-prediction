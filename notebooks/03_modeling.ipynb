{
 "cells": [
  {
   "cell_type": "code",
   "execution_count": 13,
   "metadata": {},
   "outputs": [],
   "source": [
    "#Cell 1 - imports\n",
    "import pandas as pd\n",
    "import numpy as np\n",
    "import matplotlib.pyplot as plt\n",
    "from pathlib import Path\n",
    "\n",
    "from sklearn.linear_model import LogisticRegression\n",
    "from sklearn.metrics import roc_auc_score, average_precision_score\n"
   ]
  },
  {
   "cell_type": "code",
   "execution_count": 14,
   "metadata": {},
   "outputs": [
    {
     "name": "stdout",
     "output_type": "stream",
     "text": [
      "Data shape: (100, 39)\n",
      "Categorical columns: ['age_bin']\n",
      "Positive class rate: 0.36\n"
     ]
    }
   ],
   "source": [
    "# Cell 2 — define label and features\n",
    "\n",
    "# paths\n",
    "DATA = Path(\"../data/processed\")\n",
    "features_path = DATA / \"report_features.csv\"\n",
    "\n",
    "# load features\n",
    "df = pd.read_csv(features_path, parse_dates=[\"receivedate\"])\n",
    "print(\"Data shape:\", df.shape)\n",
    "\n",
    "# define label\n",
    "label = \"is_serious_report\"\n",
    "\n",
    "# drop columns not used as features\n",
    "ignore_cols = [\"safetyreportid\", \"receivedate\", label]\n",
    "X = df.drop(columns=ignore_cols)\n",
    "y = df[label]\n",
    "\n",
    "# identify categorical columns\n",
    "categorical_cols = X.select_dtypes(include=['object', 'category']).columns\n",
    "print(\"Categorical columns:\", list(categorical_cols))\n",
    "\n",
    "print(\"Positive class rate:\", y.mean())\n"
   ]
  },
  {
   "cell_type": "code",
   "execution_count": 15,
   "metadata": {},
   "outputs": [
    {
     "name": "stdout",
     "output_type": "stream",
     "text": [
      "Total rows: 100\n",
      "Train rows: 80 Test rows: 20\n",
      "Encoded train shape: (80, 38) Encoded test shape: (20, 38)\n"
     ]
    }
   ],
   "source": [
    "# Cell 3 — train/test split (time-based)\n",
    "\n",
    "# --- Safe train/test split that works for any dataset size ---\n",
    "test_ratio = 0.2  # 20% for test\n",
    "test_size = max(1, int(len(df) * test_ratio))  # ensure at least 1 row in test\n",
    "\n",
    "train = df.iloc[:-test_size]\n",
    "test = df.iloc[-test_size:]\n",
    "\n",
    "print(\"Total rows:\", len(df))\n",
    "print(\"Train rows:\", len(train), \"Test rows:\", len(test))\n",
    "\n",
    "X_train, y_train = train.drop(columns=ignore_cols), train[label]\n",
    "X_test, y_test = test.drop(columns=ignore_cols), test[label]\n",
    "\n",
    "# --- Encode categorical columns ---\n",
    "X_train_encoded = pd.get_dummies(X_train, drop_first=True)\n",
    "X_test_encoded = pd.get_dummies(X_test, drop_first=True)\n",
    "\n",
    "# Align test columns to train + fill NaNs\n",
    "X_test_encoded = X_test_encoded.reindex(columns=X_train_encoded.columns, fill_value=0)\n",
    "X_train_encoded = X_train_encoded.fillna(0)\n",
    "X_test_encoded = X_test_encoded.fillna(0)\n",
    "\n",
    "print(\"Encoded train shape:\", X_train_encoded.shape, \"Encoded test shape:\", X_test_encoded.shape)"
   ]
  },
  {
   "cell_type": "code",
   "execution_count": 16,
   "metadata": {},
   "outputs": [
    {
     "name": "stdout",
     "output_type": "stream",
     "text": [
      "ROC AUC: 0.556\n",
      "PR AUC: 0.507\n"
     ]
    }
   ],
   "source": [
    "# Cell 4 — fit baseline logistic regression\n",
    "\n",
    "model = LogisticRegression(max_iter=200, class_weight=\"balanced\")\n",
    "model.fit(X_train_encoded, y_train)\n",
    "\n",
    "# predict probabilities and classes\n",
    "y_pred_proba = model.predict_proba(X_test_encoded)[:,1]\n",
    "y_pred = model.predict(X_test_encoded)\n",
    "\n",
    "# evaluation\n",
    "roc = roc_auc_score(y_test, y_pred_proba)\n",
    "pr = average_precision_score(y_test, y_pred_proba)\n",
    "\n",
    "print(f\"ROC AUC: {roc:.3f}\")\n",
    "print(f\"PR AUC: {pr:.3f}\")\n"
   ]
  },
  {
   "cell_type": "code",
   "execution_count": 17,
   "metadata": {},
   "outputs": [
    {
     "name": "stdout",
     "output_type": "stream",
     "text": [
      "Saved model + metrics.\n"
     ]
    }
   ],
   "source": [
    "# Cell 6 — save model and metrics\n",
    "import joblib, json\n",
    "\n",
    "MODEL_DIR = Path(\"../models\")\n",
    "MODEL_DIR.mkdir(exist_ok=True)\n",
    "\n",
    "joblib.dump(model, MODEL_DIR / \"logreg_baseline.joblib\")\n",
    "\n",
    "metrics = {\n",
    "    \"roc_auc\": float(roc),\n",
    "    \"pr_auc\": float(pr),\n",
    "    \"n_train\": int(len(y_train)),\n",
    "    \"n_test\": int(len(y_test))\n",
    "}\n",
    "with open(MODEL_DIR / \"baseline_metrics.json\", \"w\") as f:\n",
    "    json.dump(metrics, f, indent=2)\n",
    "\n",
    "print(\"Saved model + metrics.\")"
   ]
  }
 ],
 "metadata": {
  "kernelspec": {
   "display_name": "Python 3",
   "language": "python",
   "name": "python3"
  },
  "language_info": {
   "codemirror_mode": {
    "name": "ipython",
    "version": 3
   },
   "file_extension": ".py",
   "mimetype": "text/x-python",
   "name": "python",
   "nbconvert_exporter": "python",
   "pygments_lexer": "ipython3",
   "version": "3.12.7"
  }
 },
 "nbformat": 4,
 "nbformat_minor": 2
}
