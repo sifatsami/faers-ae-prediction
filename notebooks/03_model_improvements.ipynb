{
 "cells": [
  {
   "cell_type": "code",
   "execution_count": 1,
   "metadata": {},
   "outputs": [
    {
     "data": {
      "text/plain": [
       "((100, 39),\n",
       " Index(['safetyreportid', 'receivedate', 'sex', 'age_mean', 'age_bin',\n",
       "        'n_reactions', 'n_drugs', 'aspirin_present', 'is_serious_report',\n",
       "        'react_Anaemia', 'react_Blood count abnormal', 'react_Constipation',\n",
       "        'react_Contusion', 'react_Death', 'react_Diarrhoea'],\n",
       "       dtype='object'))"
      ]
     },
     "execution_count": 1,
     "metadata": {},
     "output_type": "execute_result"
    }
   ],
   "source": [
    "import pandas as pd\n",
    "import numpy as np\n",
    "from pathlib import Path\n",
    "\n",
    "from sklearn.model_selection import train_test_split, cross_val_score\n",
    "from sklearn.ensemble import RandomForestClassifier, GradientBoostingClassifier\n",
    "from sklearn.metrics import roc_auc_score, average_precision_score\n",
    "\n",
    "# paths\n",
    "DATA = Path(\"../data/processed\")\n",
    "df = pd.read_csv(DATA / \"report_features.csv\", parse_dates=[\"receivedate\"])\n",
    "\n",
    "df.shape, df.columns[:15]"
   ]
  },
  {
   "cell_type": "code",
   "execution_count": 2,
   "metadata": {},
   "outputs": [
    {
     "data": {
      "text/plain": [
       "((75, 36), (25, 36))"
      ]
     },
     "execution_count": 2,
     "metadata": {},
     "output_type": "execute_result"
    }
   ],
   "source": [
    "TARGET = \"is_serious_report\"\n",
    "\n",
    "# make a copy for modeling\n",
    "df_model = df.copy()\n",
    "\n",
    "# encode categorical columns\n",
    "cat_cols = [\"sex\", \"age_bin\"]\n",
    "for col in cat_cols:\n",
    "    df_model[col] = df_model[col].astype(\"category\").cat.codes\n",
    "\n",
    "# fill missing values\n",
    "df_model = df_model.fillna(0)\n",
    "\n",
    "# split features/target\n",
    "X = df_model.drop(columns=[TARGET, \"safetyreportid\", \"receivedate\"])\n",
    "y = df_model[TARGET]\n",
    "\n",
    "X_train, X_test, y_train, y_test = train_test_split(\n",
    "    X, y, test_size=0.25, random_state=42, stratify=y\n",
    ")\n",
    "\n",
    "X_train.shape, X_test.shape\n"
   ]
  },
  {
   "cell_type": "code",
   "execution_count": 3,
   "metadata": {},
   "outputs": [
    {
     "name": "stdout",
     "output_type": "stream",
     "text": [
      "RandomForest ROC-AUC: 0.6458333333333334\n",
      "RandomForest PR-AUC: 0.6203285992759677\n"
     ]
    }
   ],
   "source": [
    "rf = RandomForestClassifier(\n",
    "    n_estimators=200,\n",
    "    max_depth=10,\n",
    "    random_state=42,\n",
    "    n_jobs=-1\n",
    ")\n",
    "\n",
    "rf.fit(X_train, y_train)\n",
    "\n",
    "preds = rf.predict_proba(X_test)[:, 1]\n",
    "roc = roc_auc_score(y_test, preds)\n",
    "pr = average_precision_score(y_test, preds)\n",
    "\n",
    "print(\"RandomForest ROC-AUC:\", roc)\n",
    "print(\"RandomForest PR-AUC:\", pr)\n"
   ]
  },
  {
   "cell_type": "code",
   "execution_count": 4,
   "metadata": {},
   "outputs": [
    {
     "name": "stdout",
     "output_type": "stream",
     "text": [
      "GradientBoosting ROC-AUC: 0.6597222222222222\n",
      "GradientBoosting PR-AUC: 0.6432342430149447\n"
     ]
    }
   ],
   "source": [
    "gb = GradientBoostingClassifier(\n",
    "    n_estimators=200,\n",
    "    learning_rate=0.1,\n",
    "    max_depth=3,\n",
    "    random_state=42\n",
    ")\n",
    "\n",
    "gb.fit(X_train, y_train)\n",
    "\n",
    "preds_gb = gb.predict_proba(X_test)[:, 1]\n",
    "roc_gb = roc_auc_score(y_test, preds_gb)\n",
    "pr_gb = average_precision_score(y_test, preds_gb)\n",
    "\n",
    "print(\"GradientBoosting ROC-AUC:\", roc_gb)\n",
    "print(\"GradientBoosting PR-AUC:\", pr_gb)\n"
   ]
  },
  {
   "cell_type": "code",
   "execution_count": 5,
   "metadata": {},
   "outputs": [
    {
     "name": "stdout",
     "output_type": "stream",
     "text": [
      "RandomForest CV ROC-AUC: 0.5600503663003662\n"
     ]
    }
   ],
   "source": [
    "cv_scores = cross_val_score(\n",
    "    rf, X, y, cv=5, scoring=\"roc_auc\", n_jobs=-1\n",
    ")\n",
    "print(\"RandomForest CV ROC-AUC:\", cv_scores.mean())\n"
   ]
  },
  {
   "cell_type": "code",
   "execution_count": 6,
   "metadata": {},
   "outputs": [
    {
     "name": "stdout",
     "output_type": "stream",
     "text": [
      "Saved improved models + metrics.\n"
     ]
    }
   ],
   "source": [
    "import joblib, json\n",
    "\n",
    "MODEL_DIR = Path(\"../models\")\n",
    "MODEL_DIR.mkdir(exist_ok=True)\n",
    "\n",
    "joblib.dump(rf, MODEL_DIR / \"random_forest.joblib\")\n",
    "joblib.dump(gb, MODEL_DIR / \"gradient_boosting.joblib\")\n",
    "\n",
    "metrics = {\n",
    "    \"random_forest\": {\"roc_auc\": float(roc), \"pr_auc\": float(pr)},\n",
    "    \"gradient_boosting\": {\"roc_auc\": float(roc_gb), \"pr_auc\": float(pr_gb)}\n",
    "}\n",
    "\n",
    "with open(MODEL_DIR / \"improved_metrics.json\", \"w\") as f:\n",
    "    json.dump(metrics, f, indent=2)\n",
    "\n",
    "print(\"Saved improved models + metrics.\")\n"
   ]
  },
  {
   "cell_type": "code",
   "execution_count": 7,
   "metadata": {},
   "outputs": [
    {
     "name": "stdout",
     "output_type": "stream",
     "text": [
      "RF and GB models saved successfully!\n"
     ]
    }
   ],
   "source": [
    "# Save Random Forest and Gradient Boosting models\n",
    "joblib.dump(rf, MODEL_DIR / \"rf_model.joblib\")\n",
    "joblib.dump(gb, MODEL_DIR / \"gb_model.joblib\")\n",
    "\n",
    "# save feature names\n",
    "\n",
    "with open(MODEL_DIR / \"rf_model.json\", \"w\") as f:\n",
    "    json.dump(list(X_train.columns), f, indent=2)\n",
    "with open(MODEL_DIR / \"gb_model.json.json\", \"w\") as f:\n",
    "    json.dump(list(X_train.columns), f, indent=2)\n",
    "\n",
    "print(\"RF and GB models saved successfully!\")"
   ]
  }
 ],
 "metadata": {
  "kernelspec": {
   "display_name": ".venv",
   "language": "python",
   "name": "python3"
  },
  "language_info": {
   "codemirror_mode": {
    "name": "ipython",
    "version": 3
   },
   "file_extension": ".py",
   "mimetype": "text/x-python",
   "name": "python",
   "nbconvert_exporter": "python",
   "pygments_lexer": "ipython3",
   "version": "3.12.7"
  }
 },
 "nbformat": 4,
 "nbformat_minor": 2
}
